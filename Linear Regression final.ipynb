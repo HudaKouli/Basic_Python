# -*- coding: utf-8 -*-
"""
Created on Mon Nov  7 14:56:28 2022

@author: ASUS
"""

from sklearn.model_selection import train_test_split
from sklearn.linear_model import LinearRegression
import matplotlib.pyplot as plt
import pandas as pd
import numpy as np
from sklearn.metrics import mean_absolute_error 
from sklearn.metrics import mean_squared_error 
from sklearn.metrics import median_absolute_error
dataset = pd.read_csv('Data.csv')
print(dataset.head(10))
X = dataset.iloc[:,:1] 
y = dataset.iloc[:, -1]

X
y

X_train, X_test, y_train, y_test = train_test_split(X, y, test_size = 0.2, random_state = 0)

X_test
y_test



regressor = LinearRegression()
regressor.fit(X_train, y_train)

regressor.score(X_train, y_train)
regressor.score(X_test, y_test)

# Predicting the Test set results
y_pred = regressor.predict(X_test)
y_pred 

y_pred_new=regressor.predict([[9.25]])
y_pred_new


mean_absolute_error(y_test, y_pred)


mean_squared_error(y_test, y_pred)


median_absolute_error(y_test, y_pred)

# Visualising the Training set results
plt.scatter(X_train, y_train, color = 'red')
plt.scatter(X_test, y_test, color = 'green')
plt.plot(X_train, regressor.predict(X_train), color = 'blue')
plt.title('Score for student')
plt.xlabel('Hours')
plt.ylabel('Score')
plt.show()



